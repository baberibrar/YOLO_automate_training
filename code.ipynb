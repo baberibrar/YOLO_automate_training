{
 "cells": [
  {
   "cell_type": "code",
   "execution_count": 75,
   "metadata": {},
   "outputs": [],
   "source": [
    "import json\n",
    "import cv2\n",
    "import os\n",
    "import matplotlib.pyplot as plt\n",
    "import glob\n",
    "import copy\n",
    "import random\n",
    "import numpy as np\n",
    "from scipy import ndarray, ndimage\n",
    "import splitfolders"
   ]
  },
  {
   "cell_type": "code",
   "execution_count": 2,
   "metadata": {},
   "outputs": [
    {
     "name": "stdout",
     "output_type": "stream",
     "text": [
      "['.DS_Store', '.ipynb_checkpoints', 'augment.ipynb', 'images', 'images_augmented', 'JsonTask2and3 (1).ipynb', 'parser_file (1).ipynb', 'parser_file (2).ipynb', 'parser_file.ipynb', 'Untitled15.ipynb', 'yolo_annotation']\n"
     ]
    }
   ],
   "source": [
    "print(os.listdir())"
   ]
  },
  {
   "cell_type": "code",
   "execution_count": 48,
   "metadata": {},
   "outputs": [],
   "source": [
    "import os\n",
    "import cv2\n",
    "import glob\n",
    "import json\n",
    "import copy\n",
    "import random\n",
    "import numpy as np\n",
    "from scipy import ndarray, ndimage\n",
    "\n",
    "def json_from_dir(source_dir):\n",
    "    all_jsons = glob.glob(os.path.join(source_dir,\"*.json\"))\n",
    "    if all_jsons:\n",
    "        all_jsons = {p:os.path.getmtime(p) for p in all_jsons}\n",
    "        return sorted(all_jsons.items())[0][0]\n",
    "    return None\n",
    "\n",
    "\n",
    "def rotate(image_array: ndarray, angle):\n",
    "    return ndimage.rotate(image_array, angle, reshape=True, order=0)\n",
    "\n",
    "\n",
    "def augment_image(img, angle, im_name):\n",
    "    augmented = rotate(img, angle)\n",
    "    name_parts = im_name.split(\".\")\n",
    "    name, ext = name_parts[0], name_parts[-1]\n",
    "    aug_im_name = name + \"_\" + str(angle) + \".\" + ext\n",
    "    return augmented, aug_im_name\n",
    "\n",
    "\n",
    "def get_and_adjust_rotation_matrix(angle, cx, cy, h, w):\n",
    "    M = cv2.getRotationMatrix2D((cx, cy), angle, 1.0)\n",
    "    cosang = np.abs(M[0, 0])\n",
    "    sinang = np.abs(M[0, 1])\n",
    "    nW = int((h * sinang) + (w * cosang))\n",
    "    nH = int((h * cosang) + (w * sinang))\n",
    "    M[0, 2] += (nW / 2) - cx\n",
    "    M[1, 2] += (nH / 2) - cy\n",
    "    return M\n",
    "\n",
    "\n",
    "def rotatePolygon(corners, M, w, h, ln=8):\n",
    "    corners = corners.reshape(-1,2)\n",
    "    corners = np.hstack((corners, np.ones((corners.shape[0],1), dtype = type(corners[0][0]))))\n",
    "    calculated = np.dot(M,corners.T).T\n",
    "    calculated = calculated.reshape(-1,ln)\n",
    "    if len(np.where(calculated[:, range(0,ln,2)] > w)) == 0 or len(np.where(calculated[:, range(1,ln,2)] > h)) == 0:\n",
    "        return None\n",
    "    return calculated\n",
    "\n",
    "\n",
    "def transform_regions(regions, rotation_matrix, w, h):\n",
    "    r_list = []\n",
    "    for region in regions:\n",
    "        label = list(region[\"region_attributes\"][\"class\"])[0]\n",
    "        x1 = region[\"shape_attributes\"][\"x\"]\n",
    "        y1 = region[\"shape_attributes\"][\"y\"]\n",
    "        width = region[\"shape_attributes\"][\"width\"]\n",
    "        height = region[\"shape_attributes\"][\"height\"]\n",
    "        x2 = width + x1\n",
    "        y2 = height + y1\n",
    "        nl = np.array([x1,y1,x2,y1,x2,y2,x1,y2])\n",
    "        p = rotatePolygon(np.array([nl]), rotation_matrix, w, h, ln=len(nl))[0]\n",
    "        r_list += [\n",
    "            {\n",
    "                'shape_attributes': {\n",
    "                    'name': 'polygon',\n",
    "                    \"all_points_x\": [p[i] for i in range(0,len(p),2)],\n",
    "                    \"all_points_y\": [p[i] for i in range(1,len(p),2)]\n",
    "                },\n",
    "                'region_attributes': {\n",
    "                    'class': {\n",
    "                        label: True\n",
    "                    }\n",
    "                }\n",
    "            }\n",
    "        ]\n",
    "    return r_list\n"
   ]
  },
  {
   "cell_type": "code",
   "execution_count": 78,
   "metadata": {},
   "outputs": [],
   "source": [
    "data=open('images_augmented/annoatations.json').read()\n",
    "data=json.loads(data)\n",
    "# print(data)\n",
    "def get_final_box(corners):\n",
    "    #main_array = np.array(calculated) # converting to numpy array\n",
    "    x_ = corners[:4]\n",
    "    y_ = corners[4:]\n",
    "    \n",
    "    xmin = np.min(x_).reshape(-1,1)\n",
    "    ymin = np.min(y_).reshape(-1,1)\n",
    "    xmax = np.max(x_).reshape(-1,1)\n",
    "    ymax = np.max(y_).reshape(-1,1)\n",
    "    \n",
    "    ymax=ymax-ymin\n",
    "    xmax=xmax-xmin\n",
    "    final = np.hstack((xmin, ymin, xmax, ymax))\n",
    "    \n",
    "    return final\n",
    "for x in list(data['_via_img_metadata'].values()):\n",
    "    filename = x['filename']\n",
    "    for region in x['regions']:\n",
    "        all_points_x = region['shape_attributes']['all_points_x']\n",
    "        all_points_y = region['shape_attributes']['all_points_y']\n",
    "        class_name = list(region['region_attributes']['class'].keys())[0]\n",
    "        #print(filename, all_points_x, all_points_y,class_name)\n",
    "        all_points_x.extend(all_points_y)"
   ]
  },
  {
   "cell_type": "code",
   "execution_count": 79,
   "metadata": {},
   "outputs": [],
   "source": [
    "def get_images():\n",
    "    images=os.listdir('images_augmented')\n",
    "#     print(images)\n",
    "    temp={}\n",
    "    for i in images:\n",
    "        try:\n",
    "            temp[i] = cv2.imread(f'images_augmented/{i}')\n",
    "        except Exception as E:\n",
    "            pass\n",
    "    return temp"
   ]
  },
  {
   "cell_type": "code",
   "execution_count": 80,
   "metadata": {},
   "outputs": [],
   "source": [
    "images_data = get_images()"
   ]
  },
  {
   "cell_type": "code",
   "execution_count": 76,
   "metadata": {},
   "outputs": [
    {
     "name": "stderr",
     "output_type": "stream",
     "text": [
      "<>:25: SyntaxWarning: \"is\" with a literal. Did you mean \"==\"?\n",
      "<>:25: SyntaxWarning: \"is\" with a literal. Did you mean \"==\"?\n",
      "<ipython-input-76-a1e9826caa3c>:25: SyntaxWarning: \"is\" with a literal. Did you mean \"==\"?\n",
      "  if len(img.shape) is 2:\n"
     ]
    },
    {
     "name": "stdout",
     "output_type": "stream",
     "text": [
      "processing image 1/7 ...\n",
      "processing image 2/7 ...\n",
      "processing image 3/7 ...\n"
     ]
    },
    {
     "name": "stderr",
     "output_type": "stream",
     "text": [
      "Copying files: 0 files [1:30:04, ? files/s]\n"
     ]
    },
    {
     "name": "stdout",
     "output_type": "stream",
     "text": [
      "processing image 4/7 ...\n",
      "processing image 5/7 ...\n",
      "processing image 6/7 ...\n",
      "processing image 7/7 ...\n",
      "Done saving in images_augmented\n"
     ]
    }
   ],
   "source": [
    "root_dir = \"images\"\n",
    "dest_dir = root_dir.rstrip(\"/\") + \"_augmented\"\n",
    "\n",
    "if not os.path.exists(dest_dir):\n",
    "    os.mkdir(dest_dir)\n",
    "\n",
    "json_path = json_from_dir(root_dir)\n",
    "with open(json_path) as f:\n",
    "    annotations_data = json.load(f)\n",
    "\n",
    "new_annotations_data = {\n",
    "    \"_via_settings\": copy.deepcopy(annotations_data[\"_via_settings\"]),\n",
    "    \"_via_img_metadata\": {},\n",
    "    \"_via_attributes\": copy.deepcopy(annotations_data[\"_via_attributes\"])\n",
    "}\n",
    "\n",
    "count = 0\n",
    "for im_key in annotations_data[\"_via_img_metadata\"]:\n",
    "    count += 1\n",
    "    print(\"processing image \"+str(count)+\"/\"+str(len(annotations_data[\"_via_img_metadata\"]))+\" ...\")\n",
    "    im_name = annotations_data[\"_via_img_metadata\"][im_key][\"filename\"]\n",
    "    im_path = os.path.join(root_dir,im_name)\n",
    "    if os.path.exists(im_path):\n",
    "        img = cv2.imread(im_path)\n",
    "        if len(img.shape) is 2:\n",
    "            img = gray2rgb(img)\n",
    "        img = img[:,:,:3]\n",
    "        height, width = img.shape[0],img.shape[1]\n",
    "        cx = width//2\n",
    "        cy = height//2\n",
    "        for angle in range(0, 360, 2):\n",
    "            augmented, aug_im_name = augment_image(img, angle, im_name)\n",
    "            aug_im_path = os.path.join(dest_dir, aug_im_name)\n",
    "            cv2.imwrite(aug_im_path, augmented)\n",
    "            rotation_matrix = get_and_adjust_rotation_matrix(angle, cx, cy, height, width)\n",
    "            aug_size = os.path.getsize(aug_im_path)\n",
    "            aug_im_key = aug_im_name + str(aug_size)\n",
    "            new_annotations_data[\"_via_img_metadata\"][aug_im_key] = {\n",
    "                \"filename\": aug_im_name,\n",
    "                \"size\": aug_size,\n",
    "                \"regions\": transform_regions(annotations_data[\"_via_img_metadata\"][im_key][\"regions\"], rotation_matrix, width, height),\n",
    "                \"file_attributes\": {}\n",
    "            }\n",
    "\n",
    "aug_json_path = os.path.join(dest_dir,\"annoatations.json\")\n",
    "with open(aug_json_path,\"w\") as f:\n",
    "    json.dump(new_annotations_data,f)\n",
    "    print(\"Done saving in \"+dest_dir)\n",
    "    \n"
   ]
  },
  {
   "cell_type": "code",
   "execution_count": 95,
   "metadata": {},
   "outputs": [],
   "source": [
    "os.chdir('C:/Users/Abdul Basit/Downloads/augmentations_task/images_augmented')\n",
    "if os.path.exists('annoatations.json'):\n",
    "    def normalize_for_yolo(xmin, ymin, w, h, w_img, h_img):\n",
    "        xcenter = (xmin + w/2) / w_img\n",
    "        ycenter = (ymin + h/2) / h_img\n",
    "        w = w / w_img\n",
    "        h = h / h_img\n",
    "        return xcenter,ycenter,w,h\n",
    "\n",
    "\n",
    "    count = 0\n",
    "    class_dt = {}\n",
    "    \n",
    "    os.chdir('C:/Users/Abdul Basit/Downloads/augmentations_task')\n",
    "    if not os.path.exists('yolo_annotation'):\n",
    "        os.mkdir('yolo_annotation')\n",
    "\n",
    "    for x in list(data['_via_img_metadata'].values()):\n",
    "        filename = x['filename']\n",
    "        u_filename = filename.split('.')[0]\n",
    "        width, height = (images_data[filename].shape)[:2]\n",
    "        f = open(f'yolo_annotation/{u_filename}.txt', \"w\")\n",
    "\n",
    "        for region in x['regions']:\n",
    "            all_points_x = region['shape_attributes']['all_points_x']\n",
    "            all_points_y = region['shape_attributes']['all_points_y']\n",
    "            class_name = list(region['region_attributes']['class'].keys())[0]\n",
    "            if class_dt.__contains__(class_name)==False:\n",
    "                class_dt[class_name] = count\n",
    "                count += 1\n",
    "\n",
    "    #         print(filename, all_points_x, all_points_y,class_name)\n",
    "            all_points_x.extend(all_points_y)\n",
    "            four_points = get_final_box(all_points_x)\n",
    "            x, y, w, h = four_points[0] \n",
    "            x, y, w, h = normalize_for_yolo(x, y, w, h, width, height)\n",
    "\n",
    "            f.write(f\"{class_dt[class_name]} {x} {y} {w} {h}\\n\")\n",
    "    #         break\n",
    "        f.close()\n",
    "\n",
    "    \n"
   ]
  },
  {
   "cell_type": "code",
   "execution_count": null,
   "metadata": {},
   "outputs": [],
   "source": [
    "def  making_directories():\n",
    "    if not os.path.exists('split'):\n",
    "        os.mkdir('split')\n",
    "    os.chdir('split')\n",
    "    if not os.path.exists('images_augmented'):\n",
    "        os.mkdir('images_augmented')\n",
    "    if not os.path.exists('yolo_annotation'):\n",
    "        os.mkdir('yolo_annotation')\n",
    "def copying_images():\n",
    "    os.chdir(\"C:\\\\Users\\\\Abdul Basit\\\\Downloads\\\\augmentations_task\")\n",
    "    for files in glob('images_augmented/*.jpeg'):\n",
    "        shutil.copyfile(f'{files}', f'split/{files}')\n",
    "def copying_text():\n",
    "    for files in glob('yolo_annotation/*.txt'):\n",
    "        shutil.copyfile(f'{files}', f'split/{files}')\n",
    "def splitting_train_test():\n",
    "    splitfolders.ratio('split', output=\"output\", seed=1337, ratio=(.8, 0.2))\n",
    "    \n",
    "    "
   ]
  },
  {
   "cell_type": "code",
   "execution_count": 138,
   "metadata": {},
   "outputs": [],
   "source": [
    "os.chdir(\"C:\\\\Users\\\\Abdul Basit\\\\Downloads\\\\augmentations_task\")\n",
    "if len(os.listdir('images_augmented'))-1==len(os.listdir(\"yolo_annotation\")):\n",
    "    making_directories()\n",
    "    copying_images()\n",
    "    copying_text()\n",
    "    splitting_train_test()\n",
    "    !git clone https://github.com/ultralytics/yolov5.git\n",
    "    %cd yolov5/\n",
    "    !pip install -r requirements.txt\n",
    "    !python train.py --img 600 --batch 20 --epochs 5 --data coco128.yaml --weights yolov5s.pt --nosave --cache\n",
    "    "
   ]
  },
  {
   "cell_type": "code",
   "execution_count": 14,
   "metadata": {},
   "outputs": [
    {
     "name": "stdout",
     "output_type": "stream",
     "text": [
      "Requirement already satisfied: split-folders in f:\\anaconda\\lib\\site-packages (0.4.3)\n"
     ]
    }
   ],
   "source": [
    "# !pip install split-folders"
   ]
  },
  {
   "cell_type": "code",
   "execution_count": 108,
   "metadata": {},
   "outputs": [
    {
     "data": {
      "text/plain": [
       "'C:\\\\Users\\\\Abdul Basit\\\\Downloads\\\\augmentations_task\\\\output_f.zip'"
      ]
     },
     "execution_count": 108,
     "metadata": {},
     "output_type": "execute_result"
    }
   ],
   "source": [
    "# shutil.make_archive('output_f', 'zip', 'output')"
   ]
  },
  {
   "cell_type": "code",
   "execution_count": 141,
   "metadata": {},
   "outputs": [],
   "source": [
    "# if not os.path.exists('dataset'):\n",
    "#     os.mkdir('dataset')\n",
    "#     print('a')"
   ]
  },
  {
   "cell_type": "code",
   "execution_count": 119,
   "metadata": {},
   "outputs": [],
   "source": [
    "# shutil.unpack_archive('output_f.zip', 'C:\\\\Users\\\\Abdul Basit\\\\Downloads\\\\augmentations_task\\\\dataset')"
   ]
  },
  {
   "cell_type": "code",
   "execution_count": null,
   "metadata": {},
   "outputs": [],
   "source": []
  },
  {
   "cell_type": "code",
   "execution_count": null,
   "metadata": {},
   "outputs": [],
   "source": []
  }
 ],
 "metadata": {
  "kernelspec": {
   "display_name": "Python 3",
   "language": "python",
   "name": "python3"
  },
  "language_info": {
   "codemirror_mode": {
    "name": "ipython",
    "version": 3
   },
   "file_extension": ".py",
   "mimetype": "text/x-python",
   "name": "python",
   "nbconvert_exporter": "python",
   "pygments_lexer": "ipython3",
   "version": "3.8.8"
  }
 },
 "nbformat": 4,
 "nbformat_minor": 4
}
